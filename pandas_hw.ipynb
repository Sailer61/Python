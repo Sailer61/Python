{
  "nbformat": 4,
  "nbformat_minor": 0,
  "metadata": {
    "colab": {
      "provenance": [],
      "authorship_tag": "ABX9TyOi2ywICA7CkdXdzb+Zjp3B"
    },
    "kernelspec": {
      "name": "python3",
      "display_name": "Python 3"
    },
    "language_info": {
      "name": "python"
    }
  },
  "cells": [
    {
      "cell_type": "code",
      "execution_count": 41,
      "metadata": {
        "colab": {
          "base_uri": "https://localhost:8080/"
        },
        "id": "e45HBThaPiT-",
        "outputId": "cbe15b9d-313f-4416-ad5c-d1d6705681d3"
      },
      "outputs": [
        {
          "output_type": "stream",
          "name": "stdout",
          "text": [
            "домик       5\n",
            "зверушка    8\n",
            "и           1\n",
            "лес         3\n",
            "опушка      6\n",
            "странный    8\n",
            "dtype: int64\n"
          ]
        }
      ],
      "source": [
        "#task 1\n",
        "import pandas as pd\n",
        "import string\n",
        "\n",
        "def length_stats(text):\n",
        "    text = text.lower()\n",
        "    text = ''.join([char for char in text if char not in string.punctuation and not char.isdigit()])\n",
        "    words = text.split()\n",
        "    lengths = pd.Series({word: len(word) for word in words})\n",
        "    lengths = lengths.sort_index()\n",
        "\n",
        "    return lengths\n",
        "print(length_stats(\"Лес, опушка, странный домик. Лес, опушка и зверушка.\"))"
      ]
    },
    {
      "cell_type": "code",
      "source": [
        "#task 2\n",
        "import pandas as pd\n",
        "\n",
        "def cheque(price_list, **kwargs):\n",
        "    products = []\n",
        "    prices = []\n",
        "    numbers = []\n",
        "    costs = []\n",
        "    for product, number in kwargs.items():\n",
        "        if product in price_list:\n",
        "            price = price_list[product]\n",
        "            cost = price * number\n",
        "            products.append(product)\n",
        "            prices.append(price)\n",
        "            numbers.append(number)\n",
        "            costs.append(cost)\n",
        "    data = {'product': products, 'price': prices, 'number': numbers, 'cost': costs}\n",
        "    df = pd.DataFrame(data)\n",
        "    df = df.sort_values(by='product').reset_index(drop=True)\n",
        "    return df\n",
        "\n",
        "products = ['bread', 'milk', 'soda', 'cream']\n",
        "prices = [37, 58, 99, 72]\n",
        "price_list = pd.Series(prices, products)\n",
        "result = cheque(price_list, soda=3, milk=2, cream=1)\n",
        "print(result)"
      ],
      "metadata": {
        "colab": {
          "base_uri": "https://localhost:8080/"
        },
        "id": "vP7mVtIEQoQq",
        "outputId": "ba7770bb-cc11-4162-a002-d8494459823e"
      },
      "execution_count": 43,
      "outputs": [
        {
          "output_type": "stream",
          "name": "stdout",
          "text": [
            "  product  price  number  cost\n",
            "0   cream     72       1    72\n",
            "1    milk     58       2   116\n",
            "2    soda     99       3   297\n"
          ]
        }
      ]
    },
    {
      "cell_type": "code",
      "source": [
        "#task 3\n",
        "\n",
        "def discount(cheque_df):\n",
        "    discounted_cheque = cheque_df.copy()\n",
        "    for index, row in discounted_cheque.iterrows():\n",
        "        if row['number'] > 2:\n",
        "            discounted_cheque.at[index, 'price'] = row['price'] * 0.5\n",
        "            discounted_cheque.at[index, 'cost'] = discounted_cheque.at[index, 'price'] * row['number']\n",
        "    return discounted_cheque\n",
        "with_discount = discount(result)\n",
        "\n",
        "print(result)\n",
        "print(with_discount)"
      ],
      "metadata": {
        "colab": {
          "base_uri": "https://localhost:8080/"
        },
        "id": "PQ-UyJ-ba-TD",
        "outputId": "50ca8aac-598e-47ba-c4d0-67f10a2be451"
      },
      "execution_count": 45,
      "outputs": [
        {
          "output_type": "stream",
          "name": "stdout",
          "text": [
            "  product  price  number  cost\n",
            "0   cream     72       1    72\n",
            "1    milk     58       2   116\n",
            "2    soda     99       3   297\n",
            "  product  price  number   cost\n",
            "0   cream   72.0       1   72.0\n",
            "1    milk   58.0       2  116.0\n",
            "2    soda   49.5       3  148.5\n"
          ]
        },
        {
          "output_type": "stream",
          "name": "stderr",
          "text": [
            "<ipython-input-45-45ac8d8af283>:7: FutureWarning: Setting an item of incompatible dtype is deprecated and will raise an error in a future version of pandas. Value '49.5' has dtype incompatible with int64, please explicitly cast to a compatible dtype first.\n",
            "  discounted_cheque.at[index, 'price'] = row['price'] * 0.5\n",
            "<ipython-input-45-45ac8d8af283>:8: FutureWarning: Setting an item of incompatible dtype is deprecated and will raise an error in a future version of pandas. Value '148.5' has dtype incompatible with int64, please explicitly cast to a compatible dtype first.\n",
            "  discounted_cheque.at[index, 'cost'] = discounted_cheque.at[index, 'price'] * row['number']\n"
          ]
        }
      ]
    },
    {
      "cell_type": "code",
      "source": [
        "#task 4\n",
        "import pandas as pd\n",
        "\n",
        "def best(df):\n",
        "    best_students = df[(df['maths'] >= 5) & (df['physics'] >= 5) & (df['computer science'] >= 5)]\n",
        "    good_students = df[(df['maths'] >= 4) & (df['physics'] >= 4) & (df['computer science'] >= 4)]\n",
        "    return best_students, good_students\n",
        "\n",
        "columns = ['name', 'maths', 'physics', 'computer science']\n",
        "data = {\n",
        "    'name': ['Иванов', 'Петров', 'Сидоров', 'Васечкин', 'Николаев'],\n",
        "    'maths': [5, 4, 5, 2, 4],\n",
        "    'physics': [4, 4, 4, 5, 5],\n",
        "    'computer science': [5, 2, 5, 4, 3]\n",
        "}\n",
        "journal = pd.DataFrame(data, columns=columns)\n",
        "best_students, good_students = best(journal)\n",
        "filtered = best(journal)\n",
        "print(journal)\n",
        "print(filtered)\n",
        "\n",
        "\n"
      ],
      "metadata": {
        "colab": {
          "base_uri": "https://localhost:8080/"
        },
        "id": "H40c2kfAbmOB",
        "outputId": "3203d848-2dcc-4c63-b728-e9075907b57b"
      },
      "execution_count": 53,
      "outputs": [
        {
          "output_type": "stream",
          "name": "stdout",
          "text": [
            "       name  maths  physics  computer science\n",
            "0    Иванов      5        4                 5\n",
            "1    Петров      4        4                 2\n",
            "2   Сидоров      5        4                 5\n",
            "3  Васечкин      2        5                 4\n",
            "4  Николаев      4        5                 3\n",
            "(Empty DataFrame\n",
            "Columns: [name, maths, physics, computer science]\n",
            "Index: [],       name  maths  physics  computer science\n",
            "0   Иванов      5        4                 5\n",
            "2  Сидоров      5        4                 5)\n"
          ]
        }
      ]
    },
    {
      "cell_type": "code",
      "source": [],
      "metadata": {
        "id": "pwLNHPnhcbM4"
      },
      "execution_count": null,
      "outputs": []
    }
  ]
}